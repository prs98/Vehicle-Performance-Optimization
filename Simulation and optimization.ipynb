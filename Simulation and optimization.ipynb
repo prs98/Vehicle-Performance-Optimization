{
 "cells": [
  {
   "cell_type": "markdown",
   "id": "b4c5805f",
   "metadata": {},
   "source": [
    "# At time t"
   ]
  },
  {
   "cell_type": "code",
   "execution_count": 1,
   "id": "218c3a41",
   "metadata": {},
   "outputs": [],
   "source": [
    "import numpy as np\n",
    "import pandas as pd"
   ]
  },
  {
   "cell_type": "markdown",
   "id": "a75855b3",
   "metadata": {},
   "source": [
    "# The mechanical simulator"
   ]
  },
  {
   "cell_type": "code",
   "execution_count": 5,
   "id": "8408c39e",
   "metadata": {},
   "outputs": [],
   "source": [
    "initial_tangential_vel_of_rearwheel=0\n",
    "initial_tangential_vel_of_cog=0\n",
    "\n",
    "\n",
    "def simulator(cog_radius,force_on_pedal,mass,power):\n",
    "    \n",
    "    crankarm_length = 0.17 # Constant (Cursed variable)\n",
    "    # force_on_pedal = 500 # Variable\n",
    "    pedal_input_torque = force_on_pedal*crankarm_length\n",
    "\n",
    "    chainring_input_torque = pedal_input_torque\n",
    "    chainring_radius = 0.085 # Constant (Cursed variable)\n",
    "    force_on_chainring = chainring_input_torque/chainring_radius\n",
    "\n",
    "    inter_force_l = force_on_chainring\n",
    "    inter_chainring_radius_l = 0.046 # Constant (Cursed variable)\n",
    "    inter_torque_l = inter_chainring_radius_l*inter_force_l\n",
    "\n",
    "    inter_torque_r = inter_torque_l\n",
    "    inter_chainring_radius_r = 0.085 # Constant (Cursed variable)\n",
    "    inter_force_r = inter_torque_r/inter_chainring_radius_r\n",
    "\n",
    "    force_on_cog = inter_force_r\n",
    "    # cog_radius = 0.068 # Constant\n",
    "    output_torque_from_cog = cog_radius*force_on_cog\n",
    "\n",
    "    output_torque_from_rearwheel = output_torque_from_cog\n",
    "    rearwheel_radius = 0.3429 # Constant (Cursed variable)\n",
    "    force_by_rearwheel = (output_torque_from_rearwheel/rearwheel_radius) - 6\n",
    "    \n",
    "    gear_ratio = (cog_radius/inter_chainring_radius_r)*(inter_chainring_radius_l/chainring_radius)\n",
    "    # mass = 60 # Constant (Cursed variable)\n",
    "    \n",
    "    angular_acc_of_cog = output_torque_from_rearwheel*0.5/(mass*rearwheel_radius*rearwheel_radius) # Constant\n",
    "    tangential_acc_of_cog = angular_acc_of_cog*cog_radius # Constant\n",
    "    angular_acc_of_rearwheel = output_torque_from_rearwheel*0.5/(mass*rearwheel_radius*rearwheel_radius) # Constant\n",
    "    tangential_acc_of_rearwheel = angular_acc_of_rearwheel*rearwheel_radius # Constant\n",
    "\n",
    "\n",
    "    # Calculate time\n",
    "    time = (((power*chainring_radius)/(pedal_input_torque*gear_ratio))-initial_tangential_vel_of_cog)/((output_torque_from_rearwheel*0.5/(mass*rearwheel_radius*rearwheel_radius))*cog_radius)\n",
    "    \n",
    "    \n",
    "    final_tangential_vel_of_rearwheel = initial_tangential_vel_of_rearwheel+tangential_acc_of_rearwheel*time # Variable\n",
    "    final_tangential_vel_of_cog = initial_tangential_vel_of_cog+tangential_acc_of_cog*time # Variable, time\n",
    "    \n",
    "    distance = initial_tangential_vel_of_rearwheel * time + 0.5 * tangential_acc_of_rearwheel * time**2\n",
    "    \n",
    "    return (initial_tangential_vel_of_rearwheel,final_tangential_vel_of_rearwheel,final_tangential_vel_of_cog,tangential_acc_of_rearwheel,time,distance,\"-\",\"-\")"
   ]
  },
  {
   "cell_type": "code",
   "execution_count": 6,
   "id": "39cdff76",
   "metadata": {},
   "outputs": [],
   "source": [
    "myindex = ['On Gear 1','On Gear 2', 'On Gear 3','On Gear 4','On Gear 5','On Gear 6','On Gear 7']\n",
    "mydata = []\n",
    "mycolumns = ['initial_tangential_vel_of_rearwheel',\n",
    "             'final_tangential_vel_of_rearwheel',\n",
    "             'final_tangential_vel_of_cog',\n",
    "             'tangential_acc_of_rearwheel',   \n",
    "             'accelarating time',\n",
    "             'distance travelled during accelarating time',\n",
    "             'time travelled after reaching constant velocity',\n",
    "             'distance travelled during constant velocity']\n",
    "\n",
    "built = pd.DataFrame(mydata,index=myindex,columns=mycolumns)"
   ]
  },
  {
   "cell_type": "code",
   "execution_count": null,
   "id": "adc3d5c7",
   "metadata": {},
   "outputs": [],
   "source": []
  },
  {
   "cell_type": "code",
   "execution_count": 7,
   "id": "9a963950",
   "metadata": {},
   "outputs": [
    {
     "name": "stdout",
     "output_type": "stream",
     "text": [
      "power_capacity:400.55758872\n",
      "mass:73.87509442\n",
      "force_on_pedal:488.1429872\n"
     ]
    }
   ],
   "source": [
    "initial_tangential_vel_of_rearwheel=0\n",
    "initial_tangential_vel_of_cog=0\n",
    "\n",
    "cog_radius = {1:0.068,2:0.046,3:0.042,4:0.038,5:0.034,6:0.03,7:0.026}\n",
    "\n",
    "force_capacity = 2000\n",
    "\n",
    "p=400.55758872\n",
    "print(\"power_capacity:\" + str(p))\n",
    "power_depletion_factor = 0.05\n",
    "power_capacity = p\n",
    "\n",
    "m=73.87509442\n",
    "print(\"mass:\" + str(m))\n",
    "mass = m\n",
    "\n",
    "f=488.1429872\n",
    "print(\"force_on_pedal:\" + str(f))\n",
    "force_on_pedal = f\n",
    "ff= f/force_capacity\n",
    "\n",
    "power = {1:power_capacity-(power_capacity*power_depletion_factor*0),\n",
    "          2:power_capacity-(power_capacity*power_depletion_factor*1),\n",
    "          3:power_capacity-(power_capacity*power_depletion_factor*2),\n",
    "          4:power_capacity-(power_capacity*power_depletion_factor*3),\n",
    "          5:power_capacity-(power_capacity*power_depletion_factor*4),\n",
    "          6:power_capacity-(power_capacity*power_depletion_factor*5),\n",
    "          7:power_capacity-(power_capacity*power_depletion_factor*6)}\n",
    "\n",
    "for i in range(1,len(cog_radius)+1):\n",
    "    \n",
    "    data=simulator(cog_radius=cog_radius[i],force_on_pedal=force_on_pedal,mass=mass,power=power[i])\n",
    "    built.iloc[i-1]=data\n",
    "\n",
    "    initial_tangential_vel_of_rearwheel=data[1]\n",
    "    initial_tangential_vel_of_cog=data[2]"
   ]
  },
  {
   "cell_type": "code",
   "execution_count": 8,
   "id": "af5e867a",
   "metadata": {},
   "outputs": [
    {
     "data": {
      "text/html": [
       "<div>\n",
       "<style scoped>\n",
       "    .dataframe tbody tr th:only-of-type {\n",
       "        vertical-align: middle;\n",
       "    }\n",
       "\n",
       "    .dataframe tbody tr th {\n",
       "        vertical-align: top;\n",
       "    }\n",
       "\n",
       "    .dataframe thead th {\n",
       "        text-align: right;\n",
       "    }\n",
       "</style>\n",
       "<table border=\"1\" class=\"dataframe\">\n",
       "  <thead>\n",
       "    <tr style=\"text-align: right;\">\n",
       "      <th></th>\n",
       "      <th>initial_tangential_vel_of_rearwheel</th>\n",
       "      <th>final_tangential_vel_of_rearwheel</th>\n",
       "      <th>final_tangential_vel_of_cog</th>\n",
       "      <th>tangential_acc_of_rearwheel</th>\n",
       "      <th>accelarating time</th>\n",
       "      <th>distance travelled during accelarating time</th>\n",
       "      <th>time travelled after reaching constant velocity</th>\n",
       "      <th>distance travelled during constant velocity</th>\n",
       "    </tr>\n",
       "  </thead>\n",
       "  <tbody>\n",
       "    <tr>\n",
       "      <th>On Gear 1</th>\n",
       "      <td>0</td>\n",
       "      <td>4.778786</td>\n",
       "      <td>0.947674</td>\n",
       "      <td>0.709136</td>\n",
       "      <td>6.738888</td>\n",
       "      <td>16.101853</td>\n",
       "      <td>-</td>\n",
       "      <td>-</td>\n",
       "    </tr>\n",
       "    <tr>\n",
       "      <th>On Gear 2</th>\n",
       "      <td>4.778786</td>\n",
       "      <td>7.635217</td>\n",
       "      <td>1.330864</td>\n",
       "      <td>0.479709</td>\n",
       "      <td>5.954503</td>\n",
       "      <td>36.959612</td>\n",
       "      <td>-</td>\n",
       "      <td>-</td>\n",
       "    </tr>\n",
       "    <tr>\n",
       "      <th>On Gear 3</th>\n",
       "      <td>7.635217</td>\n",
       "      <td>8.043697</td>\n",
       "      <td>1.380897</td>\n",
       "      <td>0.437996</td>\n",
       "      <td>0.932611</td>\n",
       "      <td>7.311164</td>\n",
       "      <td>-</td>\n",
       "      <td>-</td>\n",
       "    </tr>\n",
       "    <tr>\n",
       "      <th>On Gear 4</th>\n",
       "      <td>8.043697</td>\n",
       "      <td>8.590222</td>\n",
       "      <td>1.441462</td>\n",
       "      <td>0.396282</td>\n",
       "      <td>1.379133</td>\n",
       "      <td>11.470194</td>\n",
       "      <td>-</td>\n",
       "      <td>-</td>\n",
       "    </tr>\n",
       "    <tr>\n",
       "      <th>On Gear 5</th>\n",
       "      <td>8.590222</td>\n",
       "      <td>9.344767</td>\n",
       "      <td>1.516279</td>\n",
       "      <td>0.354568</td>\n",
       "      <td>2.12807</td>\n",
       "      <td>19.083456</td>\n",
       "      <td>-</td>\n",
       "      <td>-</td>\n",
       "    </tr>\n",
       "    <tr>\n",
       "      <th>On Gear 6</th>\n",
       "      <td>9.344767</td>\n",
       "      <td>10.427959</td>\n",
       "      <td>1.611046</td>\n",
       "      <td>0.312854</td>\n",
       "      <td>3.462291</td>\n",
       "      <td>34.229466</td>\n",
       "      <td>-</td>\n",
       "      <td>-</td>\n",
       "    </tr>\n",
       "    <tr>\n",
       "      <th>On Gear 7</th>\n",
       "      <td>10.427959</td>\n",
       "      <td>12.06236</td>\n",
       "      <td>1.734973</td>\n",
       "      <td>0.27114</td>\n",
       "      <td>6.027885</td>\n",
       "      <td>67.784528</td>\n",
       "      <td>-</td>\n",
       "      <td>-</td>\n",
       "    </tr>\n",
       "  </tbody>\n",
       "</table>\n",
       "</div>"
      ],
      "text/plain": [
       "          initial_tangential_vel_of_rearwheel  \\\n",
       "On Gear 1                                   0   \n",
       "On Gear 2                            4.778786   \n",
       "On Gear 3                            7.635217   \n",
       "On Gear 4                            8.043697   \n",
       "On Gear 5                            8.590222   \n",
       "On Gear 6                            9.344767   \n",
       "On Gear 7                           10.427959   \n",
       "\n",
       "          final_tangential_vel_of_rearwheel final_tangential_vel_of_cog  \\\n",
       "On Gear 1                          4.778786                    0.947674   \n",
       "On Gear 2                          7.635217                    1.330864   \n",
       "On Gear 3                          8.043697                    1.380897   \n",
       "On Gear 4                          8.590222                    1.441462   \n",
       "On Gear 5                          9.344767                    1.516279   \n",
       "On Gear 6                         10.427959                    1.611046   \n",
       "On Gear 7                          12.06236                    1.734973   \n",
       "\n",
       "          tangential_acc_of_rearwheel accelarating time  \\\n",
       "On Gear 1                    0.709136          6.738888   \n",
       "On Gear 2                    0.479709          5.954503   \n",
       "On Gear 3                    0.437996          0.932611   \n",
       "On Gear 4                    0.396282          1.379133   \n",
       "On Gear 5                    0.354568           2.12807   \n",
       "On Gear 6                    0.312854          3.462291   \n",
       "On Gear 7                     0.27114          6.027885   \n",
       "\n",
       "          distance travelled during accelarating time  \\\n",
       "On Gear 1                                   16.101853   \n",
       "On Gear 2                                   36.959612   \n",
       "On Gear 3                                    7.311164   \n",
       "On Gear 4                                   11.470194   \n",
       "On Gear 5                                   19.083456   \n",
       "On Gear 6                                   34.229466   \n",
       "On Gear 7                                   67.784528   \n",
       "\n",
       "          time travelled after reaching constant velocity  \\\n",
       "On Gear 1                                               -   \n",
       "On Gear 2                                               -   \n",
       "On Gear 3                                               -   \n",
       "On Gear 4                                               -   \n",
       "On Gear 5                                               -   \n",
       "On Gear 6                                               -   \n",
       "On Gear 7                                               -   \n",
       "\n",
       "          distance travelled during constant velocity  \n",
       "On Gear 1                                           -  \n",
       "On Gear 2                                           -  \n",
       "On Gear 3                                           -  \n",
       "On Gear 4                                           -  \n",
       "On Gear 5                                           -  \n",
       "On Gear 6                                           -  \n",
       "On Gear 7                                           -  "
      ]
     },
     "execution_count": 8,
     "metadata": {},
     "output_type": "execute_result"
    }
   ],
   "source": [
    "built"
   ]
  },
  {
   "cell_type": "code",
   "execution_count": 162,
   "id": "d844ee52",
   "metadata": {},
   "outputs": [],
   "source": [
    "from pandas import ExcelWriter\n",
    "\n",
    "#writer = ExcelWriter('PythonExport.xlsx')\n",
    "#built.to_excel(writer,'build')\n",
    "#writer.save()"
   ]
  },
  {
   "cell_type": "code",
   "execution_count": null,
   "id": "358312e3",
   "metadata": {},
   "outputs": [],
   "source": []
  },
  {
   "cell_type": "markdown",
   "id": "c0024310",
   "metadata": {},
   "source": [
    "# Gurobi"
   ]
  },
  {
   "cell_type": "code",
   "execution_count": 17,
   "id": "6bf1948e",
   "metadata": {},
   "outputs": [],
   "source": [
    "from gurobipy import * #Calls Gurobi Package"
   ]
  },
  {
   "cell_type": "code",
   "execution_count": 18,
   "id": "f655683f",
   "metadata": {},
   "outputs": [
    {
     "data": {
      "text/plain": [
       "665.4672830325453"
      ]
     },
     "execution_count": 18,
     "metadata": {},
     "output_type": "execute_result"
    }
   ],
   "source": [
    "[a,s,d,f,g,h,j]=[((1.2/(ff - 0.15) ** 0.618) - 1.21)*2*60,\n",
    "(((1.2/(ff - 0.15) ** 0.618) - 1.21)*2*60)-((((1.2/(ff - 0.15) ** 0.618) - 1.21)*2*60)*0.32),\n",
    "(((1.2/(ff - 0.15) ** 0.618) - 1.21)*2*60)-((((1.2/(ff - 0.15) ** 0.618) - 1.21)*2*60)*0.38),\n",
    "(((1.2/(ff - 0.15) ** 0.618) - 1.21)*2*60)-((((1.2/(ff - 0.15) ** 0.618) - 1.21)*2*60)*0.44),\n",
    "(((1.2/(ff - 0.15) ** 0.618) - 1.21)*2*60)-((((1.2/(ff - 0.15) ** 0.618) - 1.21)*2*60)*0.5),\n",
    "(((1.2/(ff - 0.15) ** 0.618) - 1.21)*2*60)-((((1.2/(ff - 0.15) ** 0.618) - 1.21)*2*60)*0.55),\n",
    "(((1.2/(ff - 0.15) ** 0.618) - 1.21)*2*60)-((((1.2/(ff - 0.15) ** 0.618) - 1.21)*2*60)*0.61)]\n",
    "\n",
    "qwerty=(a+s+d+f+g+h+j)/3\n",
    "qwerty"
   ]
  },
  {
   "cell_type": "markdown",
   "id": "513ab791",
   "metadata": {},
   "source": [
    "# Risk averse approach"
   ]
  },
  {
   "cell_type": "code",
   "execution_count": 73,
   "id": "8c4d288b",
   "metadata": {},
   "outputs": [
    {
     "name": "stdout",
     "output_type": "stream",
     "text": [
      "Gurobi Optimizer version 9.1.2 build v9.1.2rc0 (win64)\n",
      "Thread count: 6 physical cores, 12 logical processors, using up to 12 threads\n",
      "Optimize a model with 8 rows, 7 columns and 14 nonzeros\n",
      "Model fingerprint: 0xfb7adcdf\n",
      "Coefficient statistics:\n",
      "  Matrix range     [1e+00, 1e+00]\n",
      "  Objective range  [5e+00, 1e+01]\n",
      "  Bounds range     [0e+00, 0e+00]\n",
      "  RHS range        [2e+02, 6e+02]\n",
      "Presolve removed 7 rows and 0 columns\n",
      "Presolve time: 0.01s\n",
      "Presolved: 1 rows, 7 columns, 7 nonzeros\n",
      "\n",
      "Iteration    Objective       Primal Inf.    Dual Inf.      Time\n",
      "       0    3.2458386e+03   2.128113e+01   0.000000e+00      0s\n",
      "       1    3.7321433e+03   0.000000e+00   0.000000e+00      0s\n",
      "\n",
      "Solved in 1 iterations and 0.01 seconds\n",
      "Optimal objective  3.732143263e+03\n"
     ]
    }
   ],
   "source": [
    "#Model Definition\n",
    "m = Model('Exampe 1')\n",
    "\n",
    "\n",
    "#Variables Definition\n",
    "t_1_1 = m.addVar(vtype=GRB.CONTINUOUS, lb=0, name='time_1_1')\n",
    "t_1_2 = m.addVar(vtype=GRB.CONTINUOUS, lb=0, name='time_1_2')\n",
    "t_1_3 = m.addVar(vtype=GRB.CONTINUOUS, lb=0, name='time_1_3')\n",
    "t_1_4 = m.addVar(vtype=GRB.CONTINUOUS, lb=0, name='time_1_4')\n",
    "t_1_5 = m.addVar(vtype=GRB.CONTINUOUS, lb=0, name='time_1_5')\n",
    "t_1_6 = m.addVar(vtype=GRB.CONTINUOUS, lb=0, name='time_1_6')\n",
    "t_1_7 = m.addVar(vtype=GRB.CONTINUOUS, lb=0, name='time_1_7')\n",
    "\n",
    "m.update()\n",
    "\n",
    "\n",
    "#Constraint Definition\n",
    "\n",
    "con1 = m.addConstr(built['accelarating time']['On Gear 1'] + t_1_1 <= ((1.2/(ff - 0.15) ** 0.618) - 1.21)*2*60, name='c1')\n",
    "con2 = m.addConstr(built['accelarating time']['On Gear 2'] + t_1_2 <= (((1.2/(ff - 0.15) ** 0.618) - 1.21)*2*60)-((((1.2/(ff - 0.15) ** 0.618) - 1.21)*2*60)*0.32), name='c2')\n",
    "con3 = m.addConstr(built['accelarating time']['On Gear 3'] + t_1_3 <= (((1.2/(ff - 0.15) ** 0.618) - 1.21)*2*60)-((((1.2/(ff - 0.15) ** 0.618) - 1.21)*2*60)*0.38), name='c3')\n",
    "con4 = m.addConstr(built['accelarating time']['On Gear 4'] + t_1_4 <= (((1.2/(ff - 0.15) ** 0.618) - 1.21)*2*60)-((((1.2/(ff - 0.15) ** 0.618) - 1.21)*2*60)*0.44), name='c4')\n",
    "con5 = m.addConstr(built['accelarating time']['On Gear 5'] + t_1_5 <= (((1.2/(ff - 0.15) ** 0.618) - 1.21)*2*60)-((((1.2/(ff - 0.15) ** 0.618) - 1.21)*2*60)*0.5), name='c5')\n",
    "con6 = m.addConstr(built['accelarating time']['On Gear 6'] + t_1_6 <= (((1.2/(ff - 0.15) ** 0.618) - 1.21)*2*60)-((((1.2/(ff - 0.15) ** 0.618) - 1.21)*2*60)*0.55), name='c6')\n",
    "con7 = m.addConstr(built['accelarating time']['On Gear 7'] + t_1_7 <= (((1.2/(ff - 0.15) ** 0.618) - 1.21)*2*60)-((((1.2/(ff - 0.15) ** 0.618) - 1.21)*2*60)*0.61), name='c7')\n",
    "\n",
    "b = built['accelarating time']['On Gear 1'] + t_1_1 + built['accelarating time']['On Gear 2'] + t_1_2 + built['accelarating time']['On Gear 3'] + t_1_3 + built['accelarating time']['On Gear 4'] + t_1_4 + built['accelarating time']['On Gear 5'] + t_1_5 + built['accelarating time']['On Gear 6'] + t_1_6 + built['accelarating time']['On Gear 7'] + t_1_7\n",
    "\n",
    "\n",
    "con8 = m.addConstr(b == qwerty, name=\"c8\")\n",
    "\n",
    "m.update()\n",
    "\n",
    "\n",
    "#Objective Function\n",
    "d_1_1 = built['final_tangential_vel_of_rearwheel']['On Gear 1']*t_1_1 + built['distance travelled during accelarating time']['On Gear 1']\n",
    "d_1_2 = built['final_tangential_vel_of_rearwheel']['On Gear 2']*t_1_2 + built['distance travelled during accelarating time']['On Gear 2']\n",
    "d_1_3 = built['final_tangential_vel_of_rearwheel']['On Gear 3']*t_1_3 + built['distance travelled during accelarating time']['On Gear 3']\n",
    "d_1_4 = built['final_tangential_vel_of_rearwheel']['On Gear 4']*t_1_4 + built['distance travelled during accelarating time']['On Gear 4']\n",
    "d_1_5 = built['final_tangential_vel_of_rearwheel']['On Gear 5']*t_1_5 + built['distance travelled during accelarating time']['On Gear 5']\n",
    "d_1_6 = built['final_tangential_vel_of_rearwheel']['On Gear 6']*t_1_6 + built['distance travelled during accelarating time']['On Gear 6']\n",
    "d_1_7 = built['final_tangential_vel_of_rearwheel']['On Gear 7']*t_1_7 + built['distance travelled during accelarating time']['On Gear 7']\n",
    "d_1 = d_1_1+d_1_2+d_1_3+d_1_4+d_1_5+d_1_6+d_1_7\n",
    "\n",
    "m.setObjective(d_1, GRB.MINIMIZE)\n",
    "\n",
    "\n",
    "\n",
    "#Solve!\n",
    "m.optimize()"
   ]
  },
  {
   "cell_type": "markdown",
   "id": "5409b597",
   "metadata": {},
   "source": [
    "# Greedy approach"
   ]
  },
  {
   "cell_type": "code",
   "execution_count": 70,
   "id": "b657f5d0",
   "metadata": {},
   "outputs": [
    {
     "name": "stdout",
     "output_type": "stream",
     "text": [
      "Gurobi Optimizer version 9.1.2 build v9.1.2rc0 (win64)\n",
      "Thread count: 6 physical cores, 12 logical processors, using up to 12 threads\n",
      "Optimize a model with 8 rows, 7 columns and 14 nonzeros\n",
      "Model fingerprint: 0x394ff040\n",
      "Coefficient statistics:\n",
      "  Matrix range     [1e+00, 1e+00]\n",
      "  Objective range  [5e+00, 1e+01]\n",
      "  Bounds range     [0e+00, 0e+00]\n",
      "  RHS range        [2e+02, 6e+02]\n",
      "Presolve removed 8 rows and 7 columns\n",
      "Presolve time: 0.01s\n",
      "Presolve: All rows and columns removed\n",
      "Iteration    Objective       Primal Inf.    Dual Inf.      Time\n",
      "       0    2.3563522e+03   0.000000e+00   0.000000e+00      0s\n",
      "\n",
      "Solved in 0 iterations and 0.01 seconds\n",
      "Optimal objective  2.356352166e+03\n"
     ]
    }
   ],
   "source": [
    "#Model Definition\n",
    "m = Model('Exampe 1')\n",
    "\n",
    "\n",
    "#Variables Definition\n",
    "t_1_1 = m.addVar(vtype=GRB.CONTINUOUS, lb=0, name='time_1_1')\n",
    "t_1_2 = m.addVar(vtype=GRB.CONTINUOUS, lb=0, name='time_1_2')\n",
    "t_1_3 = m.addVar(vtype=GRB.CONTINUOUS, lb=0, name='time_1_3')\n",
    "t_1_4 = m.addVar(vtype=GRB.CONTINUOUS, lb=0, name='time_1_4')\n",
    "t_1_5 = m.addVar(vtype=GRB.CONTINUOUS, lb=0, name='time_1_5')\n",
    "t_1_6 = m.addVar(vtype=GRB.CONTINUOUS, lb=0, name='time_1_6')\n",
    "t_1_7 = m.addVar(vtype=GRB.CONTINUOUS, lb=0, name='time_1_7')\n",
    "\n",
    "m.update()\n",
    "\n",
    "\n",
    "#Constraint Definition\n",
    "\n",
    "con1 = m.addConstr(built['accelarating time']['On Gear 1'] + t_1_1 <= built['accelarating time']['On Gear 1'], name='c1')\n",
    "con2 = m.addConstr(built['accelarating time']['On Gear 2'] + t_1_2 <= built['accelarating time']['On Gear 2'], name='c2')\n",
    "con3 = m.addConstr(built['accelarating time']['On Gear 3'] + t_1_3 <= built['accelarating time']['On Gear 3'], name='c3')\n",
    "con4 = m.addConstr(built['accelarating time']['On Gear 4'] + t_1_4 <= built['accelarating time']['On Gear 4'], name='c4')\n",
    "con5 = m.addConstr(built['accelarating time']['On Gear 5'] + t_1_5 <= built['accelarating time']['On Gear 5'], name='c5')\n",
    "con6 = m.addConstr(built['accelarating time']['On Gear 6'] + t_1_6 <= built['accelarating time']['On Gear 6'], name='c6')\n",
    "con7 = m.addConstr(built['accelarating time']['On Gear 7'] + t_1_7 <= (((1.2/(ff - 0.15) ** 0.618) - 1.21)*2*60)-((((1.2/(ff - 0.15) ** 0.618) - 1.21)*2*60)*0.61), name='c7')\n",
    "\n",
    "b = built['accelarating time']['On Gear 1'] + t_1_1 + built['accelarating time']['On Gear 2'] + t_1_2 + built['accelarating time']['On Gear 3'] + t_1_3 + built['accelarating time']['On Gear 4'] + t_1_4 + built['accelarating time']['On Gear 5'] + t_1_5 + built['accelarating time']['On Gear 6'] + t_1_6 + built['accelarating time']['On Gear 7'] + t_1_7\n",
    "\n",
    "\n",
    "con8 = m.addConstr(b <= qwerty, name=\"c8\")\n",
    "\n",
    "m.update()\n",
    "\n",
    "\n",
    "#Objective Function\n",
    "d_1_1 = built['final_tangential_vel_of_rearwheel']['On Gear 1']*t_1_1 + built['distance travelled during accelarating time']['On Gear 1']\n",
    "d_1_2 = built['final_tangential_vel_of_rearwheel']['On Gear 2']*t_1_2 + built['distance travelled during accelarating time']['On Gear 2']\n",
    "d_1_3 = built['final_tangential_vel_of_rearwheel']['On Gear 3']*t_1_3 + built['distance travelled during accelarating time']['On Gear 3']\n",
    "d_1_4 = built['final_tangential_vel_of_rearwheel']['On Gear 4']*t_1_4 + built['distance travelled during accelarating time']['On Gear 4']\n",
    "d_1_5 = built['final_tangential_vel_of_rearwheel']['On Gear 5']*t_1_5 + built['distance travelled during accelarating time']['On Gear 5']\n",
    "d_1_6 = built['final_tangential_vel_of_rearwheel']['On Gear 6']*t_1_6 + built['distance travelled during accelarating time']['On Gear 6']\n",
    "d_1_7 = built['final_tangential_vel_of_rearwheel']['On Gear 7']*t_1_7 + built['distance travelled during accelarating time']['On Gear 7']\n",
    "d_1 = d_1_1+d_1_2+d_1_3+d_1_4+d_1_5+d_1_6+d_1_7\n",
    "\n",
    "m.setObjective(d_1, GRB.MAXIMIZE)\n",
    "\n",
    "\n",
    "\n",
    "#Solve!\n",
    "m.optimize()"
   ]
  },
  {
   "cell_type": "code",
   "execution_count": 58,
   "id": "7939b31d",
   "metadata": {},
   "outputs": [
    {
     "data": {
      "text/plain": [
       "185.38017170192336"
      ]
     },
     "execution_count": 58,
     "metadata": {},
     "output_type": "execute_result"
    }
   ],
   "source": [
    "(((1.2/(ff - 0.15) ** 0.618) - 1.21)*2*60)-((((1.2/(ff - 0.15) ** 0.618) - 1.21)*2*60)*0.61)"
   ]
  },
  {
   "cell_type": "markdown",
   "id": "609441c2",
   "metadata": {},
   "source": [
    "# Known exogenous variables"
   ]
  },
  {
   "cell_type": "code",
   "execution_count": 67,
   "id": "2bf852ed",
   "metadata": {},
   "outputs": [
    {
     "name": "stdout",
     "output_type": "stream",
     "text": [
      "Gurobi Optimizer version 9.1.2 build v9.1.2rc0 (win64)\n",
      "Thread count: 6 physical cores, 12 logical processors, using up to 12 threads\n",
      "Optimize a model with 8 rows, 7 columns and 14 nonzeros\n",
      "Model fingerprint: 0x79f94633\n",
      "Coefficient statistics:\n",
      "  Matrix range     [1e+00, 1e+00]\n",
      "  Objective range  [5e+00, 1e+01]\n",
      "  Bounds range     [0e+00, 0e+00]\n",
      "  RHS range        [2e+02, 6e+02]\n",
      "Presolve removed 7 rows and 0 columns\n",
      "Presolve time: 0.01s\n",
      "Presolved: 1 rows, 7 columns, 7 nonzeros\n",
      "\n",
      "Iteration    Objective       Primal Inf.    Dual Inf.      Time\n",
      "       0    7.8989056e+03   5.743645e+01   0.000000e+00      0s\n",
      "       1    6.8679414e+03   0.000000e+00   0.000000e+00      0s\n",
      "\n",
      "Solved in 1 iterations and 0.01 seconds\n",
      "Optimal objective  6.867941353e+03\n"
     ]
    }
   ],
   "source": [
    "#Model Definition\n",
    "m = Model('Exampe 1')\n",
    "\n",
    "\n",
    "#Variables Definition\n",
    "t_1_1 = m.addVar(vtype=GRB.CONTINUOUS, lb=0, name='time_1_1')\n",
    "t_1_2 = m.addVar(vtype=GRB.CONTINUOUS, lb=0, name='time_1_2')\n",
    "t_1_3 = m.addVar(vtype=GRB.CONTINUOUS, lb=0, name='time_1_3')\n",
    "t_1_4 = m.addVar(vtype=GRB.CONTINUOUS, lb=0, name='time_1_4')\n",
    "t_1_5 = m.addVar(vtype=GRB.CONTINUOUS, lb=0, name='time_1_5')\n",
    "t_1_6 = m.addVar(vtype=GRB.CONTINUOUS, lb=0, name='time_1_6')\n",
    "t_1_7 = m.addVar(vtype=GRB.CONTINUOUS, lb=0, name='time_1_7')\n",
    "\n",
    "m.update()\n",
    "\n",
    "\n",
    "#Constraint Definition\n",
    "\n",
    "con1 = m.addConstr(built['accelarating time']['On Gear 1'] + t_1_1 <= ((1.2/(ff - 0.15) ** 0.618) - 1.21)*2*60, name='c1')\n",
    "con2 = m.addConstr(built['accelarating time']['On Gear 2'] + t_1_2 <= (((1.2/(ff - 0.15) ** 0.618) - 1.21)*2*60)-((((1.2/(ff - 0.15) ** 0.618) - 1.21)*2*60)*0.32), name='c2')\n",
    "con3 = m.addConstr(built['accelarating time']['On Gear 3'] + t_1_3 <= (((1.2/(ff - 0.15) ** 0.618) - 1.21)*2*60)-((((1.2/(ff - 0.15) ** 0.618) - 1.21)*2*60)*0.38), name='c3')\n",
    "con4 = m.addConstr(built['accelarating time']['On Gear 4'] + t_1_4 <= (((1.2/(ff - 0.15) ** 0.618) - 1.21)*2*60)-((((1.2/(ff - 0.15) ** 0.618) - 1.21)*2*60)*0.44), name='c4')\n",
    "con5 = m.addConstr(built['accelarating time']['On Gear 5'] + t_1_5 <= (((1.2/(ff - 0.15) ** 0.618) - 1.21)*2*60)-((((1.2/(ff - 0.15) ** 0.618) - 1.21)*2*60)*0.5), name='c5')\n",
    "con6 = m.addConstr(built['accelarating time']['On Gear 6'] + t_1_6 <= (((1.2/(ff - 0.15) ** 0.618) - 1.21)*2*60)-((((1.2/(ff - 0.15) ** 0.618) - 1.21)*2*60)*0.55), name='c6')\n",
    "con7 = m.addConstr(built['accelarating time']['On Gear 7'] + t_1_7 <= (((1.2/(ff - 0.15) ** 0.618) - 1.21)*2*60)-((((1.2/(ff - 0.15) ** 0.618) - 1.21)*2*60)*0.61), name='c7')\n",
    "\n",
    "b = built['accelarating time']['On Gear 1'] + t_1_1 + built['accelarating time']['On Gear 2'] + t_1_2 + built['accelarating time']['On Gear 3'] + t_1_3 + built['accelarating time']['On Gear 4'] + t_1_4 + built['accelarating time']['On Gear 5'] + t_1_5 + built['accelarating time']['On Gear 6'] + t_1_6 + built['accelarating time']['On Gear 7'] + t_1_7\n",
    "\n",
    "\n",
    "con8 = m.addConstr(b <= qwerty, name=\"c8\")\n",
    "\n",
    "m.update()\n",
    "\n",
    "\n",
    "#Objective Function\n",
    "d_1_1 = built['final_tangential_vel_of_rearwheel']['On Gear 1']*t_1_1 + built['distance travelled during accelarating time']['On Gear 1']\n",
    "d_1_2 = built['final_tangential_vel_of_rearwheel']['On Gear 2']*t_1_2 + built['distance travelled during accelarating time']['On Gear 2']\n",
    "d_1_3 = built['final_tangential_vel_of_rearwheel']['On Gear 3']*t_1_3 + built['distance travelled during accelarating time']['On Gear 3']\n",
    "d_1_4 = built['final_tangential_vel_of_rearwheel']['On Gear 4']*t_1_4 + built['distance travelled during accelarating time']['On Gear 4']\n",
    "d_1_5 = built['final_tangential_vel_of_rearwheel']['On Gear 5']*t_1_5 + built['distance travelled during accelarating time']['On Gear 5']\n",
    "d_1_6 = built['final_tangential_vel_of_rearwheel']['On Gear 6']*t_1_6 + built['distance travelled during accelarating time']['On Gear 6']\n",
    "d_1_7 = built['final_tangential_vel_of_rearwheel']['On Gear 7']*t_1_7 + built['distance travelled during accelarating time']['On Gear 7']\n",
    "d_1 = d_1_1+d_1_2+d_1_3+d_1_4+d_1_5+d_1_6+d_1_7\n",
    "\n",
    "m.setObjective(d_1, GRB.MAXIMIZE)\n",
    "\n",
    "\n",
    "\n",
    "#Solve!\n",
    "m.optimize()"
   ]
  },
  {
   "cell_type": "markdown",
   "id": "084f0a8b",
   "metadata": {},
   "source": [
    "# Times rider spent on each gear during acceleration"
   ]
  },
  {
   "cell_type": "code",
   "execution_count": 74,
   "id": "6904d1ad",
   "metadata": {},
   "outputs": [
    {
     "name": "stdout",
     "output_type": "stream",
     "text": [
      "6.73888824441552\n",
      "5.954503142768342\n",
      "0.9326110320928859\n",
      "1.379133065828567\n",
      "2.128069971920679\n",
      "3.4622910269086176\n",
      "6.027884923953275\n"
     ]
    }
   ],
   "source": [
    "for i in range(0,7):\n",
    "    print(built['accelarating time'].iloc[i])"
   ]
  },
  {
   "cell_type": "markdown",
   "id": "a5c16793",
   "metadata": {},
   "source": [
    "#  Distances cover by rider on each gear during initial acceleration"
   ]
  },
  {
   "cell_type": "code",
   "execution_count": 61,
   "id": "6903ca84",
   "metadata": {},
   "outputs": [
    {
     "name": "stdout",
     "output_type": "stream",
     "text": [
      "16.101852792455823\n",
      "36.95961159735561\n",
      "7.311164261016069\n",
      "11.470193910423355\n",
      "19.083456260009598\n",
      "34.22946617678458\n",
      "67.78452766823436\n"
     ]
    }
   ],
   "source": [
    "for i in range(0,7):\n",
    "    print(built['distance travelled during accelarating time'].iloc[i])"
   ]
  },
  {
   "cell_type": "markdown",
   "id": "32b994fe",
   "metadata": {},
   "source": [
    "# Times rider spent on each gear excluding the acceleration time"
   ]
  },
  {
   "cell_type": "code",
   "execution_count": 75,
   "id": "9632561f",
   "metadata": {},
   "outputs": [
    {
     "name": "stdout",
     "output_type": "stream",
     "text": [
      "468.59488535025974\n",
      "170.24901627439766\n",
      "0.0\n",
      "0.0\n",
      "0.0\n",
      "0.0\n",
      "0.0\n"
     ]
    }
   ],
   "source": [
    "print(m.getVarByName('time_1_1').x)\n",
    "print(m.getVarByName('time_1_2').x)\n",
    "print(m.getVarByName('time_1_3').x)\n",
    "print(m.getVarByName('time_1_4').x)\n",
    "print(m.getVarByName('time_1_5').x)\n",
    "print(m.getVarByName('time_1_6').x)\n",
    "print(m.getVarByName('time_1_7').x)"
   ]
  },
  {
   "cell_type": "markdown",
   "id": "9c244d14",
   "metadata": {},
   "source": [
    "# Distances cover by rider on each gear excluding the acceleration distance"
   ]
  },
  {
   "cell_type": "code",
   "execution_count": 63,
   "id": "fabf37dd",
   "metadata": {},
   "outputs": [
    {
     "name": "stdout",
     "output_type": "stream",
     "text": [
      "0.0\n",
      "0.0\n",
      "0.0\n",
      "0.0\n",
      "0.0\n",
      "0.0\n",
      "2163.4118937737494\n"
     ]
    }
   ],
   "source": [
    "[t_1_1,t_1_2,t_1_3,t_1_4,t_1_5,t_1_6,t_1_7] = [m.getVarByName('time_1_1').x,\n",
    "                                              m.getVarByName('time_1_2').x,\n",
    "                                              m.getVarByName('time_1_3').x,\n",
    "                                              m.getVarByName('time_1_4').x,\n",
    "                                              m.getVarByName('time_1_5').x,\n",
    "                                              m.getVarByName('time_1_6').x,\n",
    "                                              m.getVarByName('time_1_7').x]\n",
    "\n",
    "d_1_1 = built['final_tangential_vel_of_rearwheel']['On Gear 1']*t_1_1\n",
    "d_1_2 = built['final_tangential_vel_of_rearwheel']['On Gear 2']*t_1_2\n",
    "d_1_3 = built['final_tangential_vel_of_rearwheel']['On Gear 3']*t_1_3\n",
    "d_1_4 = built['final_tangential_vel_of_rearwheel']['On Gear 4']*t_1_4\n",
    "d_1_5 = built['final_tangential_vel_of_rearwheel']['On Gear 5']*t_1_5\n",
    "d_1_6 = built['final_tangential_vel_of_rearwheel']['On Gear 6']*t_1_6\n",
    "d_1_7 = built['final_tangential_vel_of_rearwheel']['On Gear 7']*t_1_7\n",
    "\n",
    "print(d_1_1)\n",
    "print(d_1_2)\n",
    "print(d_1_3)\n",
    "print(d_1_4)\n",
    "print(d_1_5)\n",
    "print(d_1_6)\n",
    "print(d_1_7)"
   ]
  },
  {
   "cell_type": "code",
   "execution_count": null,
   "id": "f031c6f0",
   "metadata": {},
   "outputs": [],
   "source": []
  }
 ],
 "metadata": {
  "kernelspec": {
   "display_name": "Python 3",
   "language": "python",
   "name": "python3"
  },
  "language_info": {
   "codemirror_mode": {
    "name": "ipython",
    "version": 3
   },
   "file_extension": ".py",
   "mimetype": "text/x-python",
   "name": "python",
   "nbconvert_exporter": "python",
   "pygments_lexer": "ipython3",
   "version": "3.8.8"
  }
 },
 "nbformat": 4,
 "nbformat_minor": 5
}
