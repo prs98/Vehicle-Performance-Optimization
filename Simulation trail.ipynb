{
 "cells": [
  {
   "cell_type": "markdown",
   "id": "b4c5805f",
   "metadata": {},
   "source": [
    "# At time t"
   ]
  },
  {
   "cell_type": "code",
   "execution_count": 5,
   "id": "218c3a41",
   "metadata": {},
   "outputs": [],
   "source": [
    "import numpy as np\n",
    "import pandas as pd"
   ]
  },
  {
   "cell_type": "markdown",
   "id": "0b9c8805",
   "metadata": {},
   "source": [
    "## Input parameters"
   ]
  },
  {
   "cell_type": "code",
   "execution_count": 1,
   "id": "6a23bd45",
   "metadata": {},
   "outputs": [],
   "source": [
    "force_on_pedal = 500 # Variable\n",
    "crankarm_length = 0.17 # Constant (Cursed variable)\n",
    "pedal_input_torque = force_on_pedal*crankarm_length\n",
    "\n",
    "chainring_input_torque = pedal_input_torque\n",
    "chainring_radius = 0.085 # Constant (Cursed variable)\n",
    "force_on_chainring = chainring_input_torque/chainring_radius\n",
    "\n",
    "inter_force_l = force_on_chainring\n",
    "inter_chainring_radius_l = 0.046 # Constant (Cursed variable)\n",
    "inter_torque_l = inter_chainring_radius_l*inter_force_l\n",
    "\n",
    "inter_torque_r = inter_torque_l\n",
    "inter_chainring_radius_r = 0.085 # Constant (Cursed variable)\n",
    "inter_force_r = inter_torque_r/inter_chainring_radius_r\n",
    "\n",
    "force_on_cog = inter_force_r\n",
    "cog_radius = 0.068 # Constant\n",
    "output_torque_from_cog = cog_radius*force_on_cog\n",
    "\n",
    "output_torque_from_rearwheel = output_torque_from_cog\n",
    "rearwheel_radius = 0.3429 # Constant (Cursed variable)\n",
    "force_by_rearwheel = (output_torque_from_rearwheel/rearwheel_radius) - 6"
   ]
  },
  {
   "cell_type": "markdown",
   "id": "1d01c3c8",
   "metadata": {},
   "source": [
    "## Output parameters"
   ]
  },
  {
   "cell_type": "code",
   "execution_count": 2,
   "id": "b5067226",
   "metadata": {},
   "outputs": [],
   "source": [
    "mass = 60 # Constant (Cursed variable)\n",
    "\n",
    "angular_acc_of_cog = 0 # Constant\n",
    "angular_vel_of_cog = 0 # Variable\n",
    "tangential_acc_of_cog = 0 # Constant\n",
    "tangential_vel_of_cog = 0 # Variable\n",
    "\n",
    "angular_acc_of_rearwheel = 0 # Constant\n",
    "angular_vel_of_rearwheel = 0 # Variable\n",
    "tangential_acc_of_rearwheel = 0 # Constant\n",
    "tangential_vel_of_rearwheel = 0 # Variable\n",
    "\n",
    "D_1_1 = 0"
   ]
  },
  {
   "cell_type": "markdown",
   "id": "7fba024e",
   "metadata": {},
   "source": [
    "## Power constraint"
   ]
  },
  {
   "cell_type": "code",
   "execution_count": null,
   "id": "df95a314",
   "metadata": {},
   "outputs": [],
   "source": [
    "gear_ratio = (cog_radius/inter_chainring_radius_r)*(inter_chainring_radius_l/chainring_radius) # Constant\n",
    "\n",
    "angular_acc_of_chainring = 0 # Constant\n",
    "angular_vel_of_chainring = 0 # Variable\n",
    "tangential_acc_of_chainring = 0 # Constant\n",
    "tangential_vel_of_chainring = 0 # Variable\n",
    "\n",
    "cadence = 0 # Variable\n",
    "input_power = 0 # Variable"
   ]
  },
  {
   "cell_type": "markdown",
   "id": "1c8abf66",
   "metadata": {},
   "source": [
    "# At time t+1"
   ]
  },
  {
   "cell_type": "markdown",
   "id": "6fccdf37",
   "metadata": {},
   "source": [
    "## Output parameters"
   ]
  },
  {
   "cell_type": "code",
   "execution_count": 5,
   "id": "920e8939",
   "metadata": {},
   "outputs": [],
   "source": [
    "mass = 60 # Constant (Cursed variable)\n",
    "\n",
    "angular_acc_of_cog = output_torque_from_rearwheel*0.5/(mass*rearwheel_radius*rearwheel_radius) # Constant\n",
    "angular_vel_of_cog = angular_vel_of_cog+angular_acc_of_cog*time_1_1 # Variable, time\n",
    "tangential_acc_of_cog = angular_acc_of_cog*cog_radius # Constant\n",
    "tangential_vel_of_cog = tangential_vel_of_cog+tangential_acc_of_cog*time_1_1 # Variable, time\n",
    "\n",
    "angular_acc_of_rearwheel = output_torque_from_rearwheel*0.5/(mass*rearwheel_radius*rearwheel_radius) # Constant\n",
    "angular_vel_of_rearwheel = angular_vel_of_rearwheel+angular_acc_of_rearwheel*time_1_1 # Variable\n",
    "tangential_acc_of_rearwheel = angular_acc_of_rearwheel*rearwheel_radius # Constant\n",
    "tangential_vel_of_rearwheel = tangential_vel_of_rearwheel+tangential_acc_of_rearwheel*time_1_1 # Variable\n",
    "\n",
    "D_1_1 = tangential_vel_of_rearwheel*time_1_1"
   ]
  },
  {
   "cell_type": "code",
   "execution_count": null,
   "id": "ae786a2a",
   "metadata": {},
   "outputs": [],
   "source": [
    "D_1_1 = (tangential_vel_of_rearwheel+((output_torque_from_rearwheel*0.5/(mass*rearwheel_radius*rearwheel_radius))*rearwheel_radius)*time_1_1)*time_1_1"
   ]
  },
  {
   "cell_type": "markdown",
   "id": "9bf441fb",
   "metadata": {},
   "source": [
    "## Power constraint"
   ]
  },
  {
   "cell_type": "code",
   "execution_count": null,
   "id": "7321c3f5",
   "metadata": {},
   "outputs": [],
   "source": [
    "gear_ratio = (cog_radius/inter_chainring_radius_r)*(inter_chainring_radius_l/chainring_radius) # Constant\n",
    "\n",
    "angular_acc_of_chainring = angular_acc_of_cog*gear_ratio # Constant\n",
    "angular_vel_of_chainring = angular_vel_of_cog*gear_ratio # Variable\n",
    "tangential_acc_of_chainring = tangential_acc_of_cog*gear_ratio # Constant\n",
    "tangential_vel_of_chainring = tangential_vel_of_cog*gear_ratio # Variable\n",
    "\n",
    "cadence = tangential_vel_of_chainring/chainring_radius # Variable\n",
    "input_power = pedal_input_torque*cadence # Variable | input_power < 350 watt"
   ]
  },
  {
   "cell_type": "markdown",
   "id": "d3c5e519",
   "metadata": {},
   "source": [
    "# result"
   ]
  },
  {
   "cell_type": "code",
   "execution_count": 3,
   "id": "6f859512",
   "metadata": {},
   "outputs": [],
   "source": [
    "cog_radius = {1:0.068,2:0.046,3:0.042,4:0.038,5:0.034,6:0.03,7:0.026}\n",
    "f_1_1 = {1:1500,2:1500,3:1500,4:1500,5:1500,6:1500,7:1500}\n",
    "\n",
    "\n",
    "angular_acc_of_rearwheel = 0 # Constant\n",
    "initial_angular_vel_of_rearwheel = 0 # Variable\n",
    "tangential_acc_of_rearwheel = 0 # Constant\n",
    "initial_tangential_vel_of_rearwheel = 0 # Variable\n",
    "\n",
    "angular_acc_of_cog = 0 # Constant\n",
    "initial_angular_vel_of_cog = 0 # Variable\n",
    "tangential_acc_of_cog = 0 # Constant\n",
    "initial_tangential_vel_of_cog = 0 # Variable\n",
    "\n",
    "angular_acc_of_chainring = 0 # Constant\n",
    "initial_angular_vel_of_chainring = 0 # Variable\n",
    "tangential_acc_of_chainring = 0 # Constant\n",
    "initial_tangential_vel_of_chainring = 0 # Variable\n",
    "\n",
    "cadence = 0 # Variable\n",
    "input_power = 0 # Variable\n",
    "\n",
    "    \n",
    "   \n"
   ]
  },
  {
   "cell_type": "code",
   "execution_count": 2,
   "id": "8408c39e",
   "metadata": {},
   "outputs": [],
   "source": [
    "initial_tangential_vel_of_rearwheel=0\n",
    "initial_tangential_vel_of_cog=0\n",
    "\n",
    "\n",
    "def simulator(cog_radius,force_on_pedal,mass,power):\n",
    "    \n",
    "    crankarm_length = 0.17 # Constant (Cursed variable)\n",
    "    # force_on_pedal = 500 # Variable\n",
    "    pedal_input_torque = force_on_pedal*crankarm_length\n",
    "\n",
    "    chainring_input_torque = pedal_input_torque\n",
    "    chainring_radius = 0.085 # Constant (Cursed variable)\n",
    "    force_on_chainring = chainring_input_torque/chainring_radius\n",
    "\n",
    "    inter_force_l = force_on_chainring\n",
    "    inter_chainring_radius_l = 0.046 # Constant (Cursed variable)\n",
    "    inter_torque_l = inter_chainring_radius_l*inter_force_l\n",
    "\n",
    "    inter_torque_r = inter_torque_l\n",
    "    inter_chainring_radius_r = 0.085 # Constant (Cursed variable)\n",
    "    inter_force_r = inter_torque_r/inter_chainring_radius_r\n",
    "\n",
    "    force_on_cog = inter_force_r\n",
    "    # cog_radius = 0.068 # Constant\n",
    "    output_torque_from_cog = cog_radius*force_on_cog\n",
    "\n",
    "    output_torque_from_rearwheel = output_torque_from_cog\n",
    "    rearwheel_radius = 0.3429 # Constant (Cursed variable)\n",
    "    force_by_rearwheel = (output_torque_from_rearwheel/rearwheel_radius) - 6\n",
    "    \n",
    "    gear_ratio = (cog_radius/inter_chainring_radius_r)*(inter_chainring_radius_l/chainring_radius)\n",
    "    # mass = 60 # Constant (Cursed variable)\n",
    "    \n",
    "    angular_acc_of_cog = output_torque_from_rearwheel*0.5/(mass*rearwheel_radius*rearwheel_radius) # Constant\n",
    "    tangential_acc_of_cog = angular_acc_of_cog*cog_radius # Constant\n",
    "    angular_acc_of_rearwheel = output_torque_from_rearwheel*0.5/(mass*rearwheel_radius*rearwheel_radius) # Constant\n",
    "    tangential_acc_of_rearwheel = angular_acc_of_rearwheel*rearwheel_radius # Constant\n",
    "\n",
    "\n",
    "    # Calculate time\n",
    "    time = (((power*chainring_radius)/(pedal_input_torque*gear_ratio))-initial_tangential_vel_of_cog)/((output_torque_from_rearwheel*0.5/(mass*rearwheel_radius*rearwheel_radius))*cog_radius)\n",
    "    \n",
    "    \n",
    "    final_tangential_vel_of_rearwheel = initial_tangential_vel_of_rearwheel+tangential_acc_of_rearwheel*time # Variable\n",
    "    final_tangential_vel_of_cog = initial_tangential_vel_of_cog+tangential_acc_of_cog*time # Variable, time\n",
    "    \n",
    "    distance = initial_tangential_vel_of_rearwheel * time + 0.5 * tangential_acc_of_rearwheel * time**2\n",
    "    \n",
    "    return (initial_tangential_vel_of_rearwheel,final_tangential_vel_of_rearwheel,final_tangential_vel_of_cog,tangential_acc_of_rearwheel,time,distance,\"-\",\"-\")"
   ]
  },
  {
   "cell_type": "code",
   "execution_count": 3,
   "id": "39cdff76",
   "metadata": {},
   "outputs": [],
   "source": [
    "myindex = ['On Gear 1','On Gear 2', 'On Gear 3','On Gear 4','On Gear 5','On Gear 6','On Gear 7']\n",
    "mydata = []\n",
    "mycolumns = ['initial_tangential_vel_of_rearwheel',\n",
    "             'final_tangential_vel_of_rearwheel',\n",
    "             'final_tangential_vel_of_cog',\n",
    "             'tangential_acc_of_rearwheel',   \n",
    "             'accelarating time',\n",
    "             'distance travelled during accelarating time',\n",
    "             'time travelled after reaching constant velocity',\n",
    "             'distance travelled during constant velocity']\n",
    "\n",
    "built = pd.DataFrame(mydata,index=myindex,columns=mycolumns)"
   ]
  },
  {
   "cell_type": "code",
   "execution_count": 4,
   "id": "9a963950",
   "metadata": {},
   "outputs": [
    {
     "name": "stdout",
     "output_type": "stream",
     "text": [
      "power_capacity:[464.31476665]\n",
      "mass:[56.74551498]\n",
      "force_on_pedal:[542.14624772]\n"
     ]
    }
   ],
   "source": [
    "initial_tangential_vel_of_rearwheel=0\n",
    "initial_tangential_vel_of_cog=0\n",
    "\n",
    "cog_radius = {1:0.068,2:0.046,3:0.042,4:0.038,5:0.034,6:0.03,7:0.026}\n",
    "\n",
    "force_capacity = 2000\n",
    "\n",
    "p=np.random.normal(400,50,1)\n",
    "print(\"power_capacity:\" + str(p))\n",
    "power_depletion_factor = 0.05\n",
    "power_capacity = p[0]\n",
    "\n",
    "m=np.random.normal(65,5,1)\n",
    "print(\"mass:\" + str(m))\n",
    "mass = 67\n",
    "\n",
    "f=np.random.normal(500,25,1)\n",
    "print(\"force_on_pedal:\" + str(f))\n",
    "force_on_pedal = f[0]\n",
    "ff= f/force_capacity\n",
    "\n",
    "power = {1:power_capacity-(power_capacity*power_depletion_factor*0),\n",
    "          2:power_capacity-(power_capacity*power_depletion_factor*1),\n",
    "          3:power_capacity-(power_capacity*power_depletion_factor*2),\n",
    "          4:power_capacity-(power_capacity*power_depletion_factor*3),\n",
    "          5:power_capacity-(power_capacity*power_depletion_factor*4),\n",
    "          6:power_capacity-(power_capacity*power_depletion_factor*5),\n",
    "          7:power_capacity-(power_capacity*power_depletion_factor*6)}\n",
    "\n",
    "for i in range(1,len(cog_radius)+1):\n",
    "    \n",
    "    data=simulator(cog_radius=cog_radius[i],force_on_pedal=force_on_pedal,mass=mass,power=power[i])\n",
    "    built.iloc[i-1]=data\n",
    "\n",
    "    initial_tangential_vel_of_rearwheel=data[1]\n",
    "    initial_tangential_vel_of_cog=data[2]"
   ]
  },
  {
   "cell_type": "code",
   "execution_count": 4,
   "id": "af5e867a",
   "metadata": {},
   "outputs": [
    {
     "data": {
      "text/html": [
       "<div>\n",
       "<style scoped>\n",
       "    .dataframe tbody tr th:only-of-type {\n",
       "        vertical-align: middle;\n",
       "    }\n",
       "\n",
       "    .dataframe tbody tr th {\n",
       "        vertical-align: top;\n",
       "    }\n",
       "\n",
       "    .dataframe thead th {\n",
       "        text-align: right;\n",
       "    }\n",
       "</style>\n",
       "<table border=\"1\" class=\"dataframe\">\n",
       "  <thead>\n",
       "    <tr style=\"text-align: right;\">\n",
       "      <th></th>\n",
       "      <th>initial_tangential_vel_of_rearwheel</th>\n",
       "      <th>final_tangential_vel_of_rearwheel</th>\n",
       "      <th>final_tangential_vel_of_cog</th>\n",
       "      <th>tangential_acc_of_rearwheel</th>\n",
       "      <th>accelarating time</th>\n",
       "      <th>distance travelled during accelarating time</th>\n",
       "      <th>time travelled after reaching constant velocity</th>\n",
       "      <th>distance travelled during constant velocity</th>\n",
       "    </tr>\n",
       "  </thead>\n",
       "  <tbody>\n",
       "    <tr>\n",
       "      <th>On Gear 1</th>\n",
       "      <td>NaN</td>\n",
       "      <td>NaN</td>\n",
       "      <td>NaN</td>\n",
       "      <td>NaN</td>\n",
       "      <td>NaN</td>\n",
       "      <td>NaN</td>\n",
       "      <td>NaN</td>\n",
       "      <td>NaN</td>\n",
       "    </tr>\n",
       "    <tr>\n",
       "      <th>On Gear 2</th>\n",
       "      <td>NaN</td>\n",
       "      <td>NaN</td>\n",
       "      <td>NaN</td>\n",
       "      <td>NaN</td>\n",
       "      <td>NaN</td>\n",
       "      <td>NaN</td>\n",
       "      <td>NaN</td>\n",
       "      <td>NaN</td>\n",
       "    </tr>\n",
       "    <tr>\n",
       "      <th>On Gear 3</th>\n",
       "      <td>NaN</td>\n",
       "      <td>NaN</td>\n",
       "      <td>NaN</td>\n",
       "      <td>NaN</td>\n",
       "      <td>NaN</td>\n",
       "      <td>NaN</td>\n",
       "      <td>NaN</td>\n",
       "      <td>NaN</td>\n",
       "    </tr>\n",
       "    <tr>\n",
       "      <th>On Gear 4</th>\n",
       "      <td>NaN</td>\n",
       "      <td>NaN</td>\n",
       "      <td>NaN</td>\n",
       "      <td>NaN</td>\n",
       "      <td>NaN</td>\n",
       "      <td>NaN</td>\n",
       "      <td>NaN</td>\n",
       "      <td>NaN</td>\n",
       "    </tr>\n",
       "    <tr>\n",
       "      <th>On Gear 5</th>\n",
       "      <td>NaN</td>\n",
       "      <td>NaN</td>\n",
       "      <td>NaN</td>\n",
       "      <td>NaN</td>\n",
       "      <td>NaN</td>\n",
       "      <td>NaN</td>\n",
       "      <td>NaN</td>\n",
       "      <td>NaN</td>\n",
       "    </tr>\n",
       "    <tr>\n",
       "      <th>On Gear 6</th>\n",
       "      <td>NaN</td>\n",
       "      <td>NaN</td>\n",
       "      <td>NaN</td>\n",
       "      <td>NaN</td>\n",
       "      <td>NaN</td>\n",
       "      <td>NaN</td>\n",
       "      <td>NaN</td>\n",
       "      <td>NaN</td>\n",
       "    </tr>\n",
       "    <tr>\n",
       "      <th>On Gear 7</th>\n",
       "      <td>NaN</td>\n",
       "      <td>NaN</td>\n",
       "      <td>NaN</td>\n",
       "      <td>NaN</td>\n",
       "      <td>NaN</td>\n",
       "      <td>NaN</td>\n",
       "      <td>NaN</td>\n",
       "      <td>NaN</td>\n",
       "    </tr>\n",
       "  </tbody>\n",
       "</table>\n",
       "</div>"
      ],
      "text/plain": [
       "          initial_tangential_vel_of_rearwheel  \\\n",
       "On Gear 1                                 NaN   \n",
       "On Gear 2                                 NaN   \n",
       "On Gear 3                                 NaN   \n",
       "On Gear 4                                 NaN   \n",
       "On Gear 5                                 NaN   \n",
       "On Gear 6                                 NaN   \n",
       "On Gear 7                                 NaN   \n",
       "\n",
       "          final_tangential_vel_of_rearwheel final_tangential_vel_of_cog  \\\n",
       "On Gear 1                               NaN                         NaN   \n",
       "On Gear 2                               NaN                         NaN   \n",
       "On Gear 3                               NaN                         NaN   \n",
       "On Gear 4                               NaN                         NaN   \n",
       "On Gear 5                               NaN                         NaN   \n",
       "On Gear 6                               NaN                         NaN   \n",
       "On Gear 7                               NaN                         NaN   \n",
       "\n",
       "          tangential_acc_of_rearwheel accelarating time  \\\n",
       "On Gear 1                         NaN               NaN   \n",
       "On Gear 2                         NaN               NaN   \n",
       "On Gear 3                         NaN               NaN   \n",
       "On Gear 4                         NaN               NaN   \n",
       "On Gear 5                         NaN               NaN   \n",
       "On Gear 6                         NaN               NaN   \n",
       "On Gear 7                         NaN               NaN   \n",
       "\n",
       "          distance travelled during accelarating time  \\\n",
       "On Gear 1                                         NaN   \n",
       "On Gear 2                                         NaN   \n",
       "On Gear 3                                         NaN   \n",
       "On Gear 4                                         NaN   \n",
       "On Gear 5                                         NaN   \n",
       "On Gear 6                                         NaN   \n",
       "On Gear 7                                         NaN   \n",
       "\n",
       "          time travelled after reaching constant velocity  \\\n",
       "On Gear 1                                             NaN   \n",
       "On Gear 2                                             NaN   \n",
       "On Gear 3                                             NaN   \n",
       "On Gear 4                                             NaN   \n",
       "On Gear 5                                             NaN   \n",
       "On Gear 6                                             NaN   \n",
       "On Gear 7                                             NaN   \n",
       "\n",
       "          distance travelled during constant velocity  \n",
       "On Gear 1                                         NaN  \n",
       "On Gear 2                                         NaN  \n",
       "On Gear 3                                         NaN  \n",
       "On Gear 4                                         NaN  \n",
       "On Gear 5                                         NaN  \n",
       "On Gear 6                                         NaN  \n",
       "On Gear 7                                         NaN  "
      ]
     },
     "execution_count": 4,
     "metadata": {},
     "output_type": "execute_result"
    }
   ],
   "source": [
    "built"
   ]
  },
  {
   "cell_type": "code",
   "execution_count": 162,
   "id": "d844ee52",
   "metadata": {},
   "outputs": [],
   "source": [
    "from pandas import ExcelWriter\n",
    "\n",
    "writer = ExcelWriter('PythonExport.xlsx')\n",
    "built.to_excel(writer,'build')\n",
    "writer.save()"
   ]
  },
  {
   "cell_type": "code",
   "execution_count": null,
   "id": "358312e3",
   "metadata": {},
   "outputs": [],
   "source": []
  },
  {
   "cell_type": "markdown",
   "id": "c0024310",
   "metadata": {},
   "source": [
    "# Gurobi"
   ]
  },
  {
   "cell_type": "code",
   "execution_count": 37,
   "id": "6bf1948e",
   "metadata": {},
   "outputs": [],
   "source": [
    "from gurobipy import * #Calls Gurobi Package"
   ]
  },
  {
   "cell_type": "code",
   "execution_count": 163,
   "id": "f655683f",
   "metadata": {},
   "outputs": [
    {
     "data": {
      "text/plain": [
       "array([757.97873753])"
      ]
     },
     "execution_count": 163,
     "metadata": {},
     "output_type": "execute_result"
    }
   ],
   "source": [
    "[a,s,d,f,g,h,j]=[((1.2/(ff - 0.15) ** 0.618) - 1.21)*2*60,\n",
    "(((1.2/(ff - 0.15) ** 0.618) - 1.21)*2*60)-((((1.2/(ff - 0.15) ** 0.618) - 1.21)*2*60)*0.32),\n",
    "(((1.2/(ff - 0.15) ** 0.618) - 1.21)*2*60)-((((1.2/(ff - 0.15) ** 0.618) - 1.21)*2*60)*0.38),\n",
    "(((1.2/(ff - 0.15) ** 0.618) - 1.21)*2*60)-((((1.2/(ff - 0.15) ** 0.618) - 1.21)*2*60)*0.44),\n",
    "(((1.2/(ff - 0.15) ** 0.618) - 1.21)*2*60)-((((1.2/(ff - 0.15) ** 0.618) - 1.21)*2*60)*0.5),\n",
    "(((1.2/(ff - 0.15) ** 0.618) - 1.21)*2*60)-((((1.2/(ff - 0.15) ** 0.618) - 1.21)*2*60)*0.55),\n",
    "(((1.2/(ff - 0.15) ** 0.618) - 1.21)*2*60)-((((1.2/(ff - 0.15) ** 0.618) - 1.21)*2*60)*0.61)]\n",
    "\n",
    "qwerty=(a+s+d+f+g+h+j)/3\n",
    "qwerty"
   ]
  },
  {
   "cell_type": "code",
   "execution_count": 164,
   "id": "8c4d288b",
   "metadata": {},
   "outputs": [
    {
     "name": "stdout",
     "output_type": "stream",
     "text": [
      "Gurobi Optimizer version 9.1.2 build v9.1.2rc0 (win64)\n",
      "Thread count: 6 physical cores, 12 logical processors, using up to 12 threads\n",
      "Optimize a model with 8 rows, 7 columns and 14 nonzeros\n",
      "Model fingerprint: 0x9901ea55\n",
      "Coefficient statistics:\n",
      "  Matrix range     [1e+00, 1e+00]\n",
      "  Objective range  [6e+00, 1e+01]\n",
      "  Bounds range     [0e+00, 0e+00]\n",
      "  RHS range        [2e+02, 7e+02]\n",
      "Presolve removed 7 rows and 0 columns\n",
      "Presolve time: 0.01s\n",
      "Presolved: 1 rows, 7 columns, 7 nonzeros\n",
      "\n",
      "Iteration    Objective       Primal Inf.    Dual Inf.      Time\n",
      "       0    1.0627002e+04   6.540670e+01   0.000000e+00      0s\n",
      "       1    9.2402762e+03   0.000000e+00   0.000000e+00      0s\n",
      "\n",
      "Solved in 1 iterations and 0.01 seconds\n",
      "Optimal objective  9.240276203e+03\n"
     ]
    }
   ],
   "source": [
    "#Model Definition\n",
    "m = Model('Exampe 1')\n",
    "\n",
    "\n",
    "#Variables Definition\n",
    "t_1_1 = m.addVar(vtype=GRB.CONTINUOUS, lb=0, name='time_1_1')\n",
    "t_1_2 = m.addVar(vtype=GRB.CONTINUOUS, lb=0, name='time_1_2')\n",
    "t_1_3 = m.addVar(vtype=GRB.CONTINUOUS, lb=0, name='time_1_3')\n",
    "t_1_4 = m.addVar(vtype=GRB.CONTINUOUS, lb=0, name='time_1_4')\n",
    "t_1_5 = m.addVar(vtype=GRB.CONTINUOUS, lb=0, name='time_1_5')\n",
    "t_1_6 = m.addVar(vtype=GRB.CONTINUOUS, lb=0, name='time_1_6')\n",
    "t_1_7 = m.addVar(vtype=GRB.CONTINUOUS, lb=0, name='time_1_7')\n",
    "\n",
    "m.update()\n",
    "\n",
    "\n",
    "#Constraint Definition\n",
    "\n",
    "con1 = m.addConstr(built['accelarating time']['On Gear 1'] + t_1_1 <= ((1.2/(ff - 0.15) ** 0.618) - 1.21)*2*60, name='c1')\n",
    "con2 = m.addConstr(built['accelarating time']['On Gear 2'] + t_1_2 <= (((1.2/(ff - 0.15) ** 0.618) - 1.21)*2*60)-((((1.2/(ff - 0.15) ** 0.618) - 1.21)*2*60)*0.32), name='c2')\n",
    "con3 = m.addConstr(built['accelarating time']['On Gear 3'] + t_1_3 <= (((1.2/(ff - 0.15) ** 0.618) - 1.21)*2*60)-((((1.2/(ff - 0.15) ** 0.618) - 1.21)*2*60)*0.38), name='c3')\n",
    "con4 = m.addConstr(built['accelarating time']['On Gear 4'] + t_1_4 <= (((1.2/(ff - 0.15) ** 0.618) - 1.21)*2*60)-((((1.2/(ff - 0.15) ** 0.618) - 1.21)*2*60)*0.44), name='c4')\n",
    "con5 = m.addConstr(built['accelarating time']['On Gear 5'] + t_1_5 <= (((1.2/(ff - 0.15) ** 0.618) - 1.21)*2*60)-((((1.2/(ff - 0.15) ** 0.618) - 1.21)*2*60)*0.5), name='c5')\n",
    "con6 = m.addConstr(built['accelarating time']['On Gear 6'] + t_1_6 <= (((1.2/(ff - 0.15) ** 0.618) - 1.21)*2*60)-((((1.2/(ff - 0.15) ** 0.618) - 1.21)*2*60)*0.55), name='c6')\n",
    "con7 = m.addConstr(built['accelarating time']['On Gear 7'] + t_1_7 <= (((1.2/(ff - 0.15) ** 0.618) - 1.21)*2*60)-((((1.2/(ff - 0.15) ** 0.618) - 1.21)*2*60)*0.61), name='c7')\n",
    "\n",
    "b = built['accelarating time']['On Gear 1'] + t_1_1 + built['accelarating time']['On Gear 2'] + t_1_2 + built['accelarating time']['On Gear 3'] + t_1_3 + built['accelarating time']['On Gear 4'] + t_1_4 + built['accelarating time']['On Gear 5'] + t_1_5 + built['accelarating time']['On Gear 6'] + t_1_6 + built['accelarating time']['On Gear 7'] + t_1_7\n",
    "\n",
    "\n",
    "con8 = m.addConstr(b <= qwerty, name=\"c8\")\n",
    "\n",
    "m.update()\n",
    "\n",
    "\n",
    "#Objective Function\n",
    "d_1_1 = built['final_tangential_vel_of_rearwheel']['On Gear 1']*t_1_1 + built['distance travelled during accelarating time']['On Gear 1']\n",
    "d_1_2 = built['final_tangential_vel_of_rearwheel']['On Gear 2']*t_1_2 + built['distance travelled during accelarating time']['On Gear 2']\n",
    "d_1_3 = built['final_tangential_vel_of_rearwheel']['On Gear 3']*t_1_3 + built['distance travelled during accelarating time']['On Gear 3']\n",
    "d_1_4 = built['final_tangential_vel_of_rearwheel']['On Gear 4']*t_1_4 + built['distance travelled during accelarating time']['On Gear 4']\n",
    "d_1_5 = built['final_tangential_vel_of_rearwheel']['On Gear 5']*t_1_5 + built['distance travelled during accelarating time']['On Gear 5']\n",
    "d_1_6 = built['final_tangential_vel_of_rearwheel']['On Gear 6']*t_1_6 + built['distance travelled during accelarating time']['On Gear 6']\n",
    "d_1_7 = built['final_tangential_vel_of_rearwheel']['On Gear 7']*t_1_7 + built['distance travelled during accelarating time']['On Gear 7']\n",
    "d_1 = d_1_1+d_1_2+d_1_3+d_1_4+d_1_5+d_1_6+d_1_7\n",
    "\n",
    "m.setObjective(d_1, GRB.MAXIMIZE)\n",
    "\n",
    "\n",
    "\n",
    "#Solve!\n",
    "m.optimize()"
   ]
  },
  {
   "cell_type": "markdown",
   "id": "084f0a8b",
   "metadata": {},
   "source": [
    "# Times rider spent on each gear during acceleration"
   ]
  },
  {
   "cell_type": "code",
   "execution_count": 165,
   "id": "6904d1ad",
   "metadata": {},
   "outputs": [
    {
     "name": "stdout",
     "output_type": "stream",
     "text": [
      "7.713445736447622\n",
      "6.815625250546654\n",
      "1.0674823989286664\n",
      "1.5785790891286584\n",
      "2.435824969404512\n",
      "3.9629970094815534\n",
      "6.899619281414134\n"
     ]
    }
   ],
   "source": [
    "for i in range(0,7):\n",
    "    print(built['accelarating time'].iloc[i])"
   ]
  },
  {
   "cell_type": "markdown",
   "id": "a5c16793",
   "metadata": {},
   "source": [
    "#  Distances cover by rider on each gear during initial acceleration"
   ]
  },
  {
   "cell_type": "code",
   "execution_count": 166,
   "id": "6903ca84",
   "metadata": {},
   "outputs": [
    {
     "name": "stdout",
     "output_type": "stream",
     "text": [
      "21.771291280341423\n",
      "49.97303602671858\n",
      "9.885414354277284\n",
      "15.50883217506659\n",
      "25.802712906864127\n",
      "46.281610452588886\n",
      "91.65135933033308\n"
     ]
    }
   ],
   "source": [
    "for i in range(0,7):\n",
    "    print(built['distance travelled during accelarating time'].iloc[i])"
   ]
  },
  {
   "cell_type": "markdown",
   "id": "32b994fe",
   "metadata": {},
   "source": [
    "# Times rider spent on each gear excluding the acceleration time"
   ]
  },
  {
   "cell_type": "code",
   "execution_count": 167,
   "id": "9632561f",
   "metadata": {},
   "outputs": [
    {
     "name": "stdout",
     "output_type": "stream",
     "text": [
      "0.0\n",
      "0.0\n",
      "0.0\n",
      "15.309670562081351\n",
      "268.2708670067025\n",
      "239.67302576901474\n",
      "204.2516004599493\n"
     ]
    }
   ],
   "source": [
    "print(m.getVarByName('time_1_1').x)\n",
    "print(m.getVarByName('time_1_2').x)\n",
    "print(m.getVarByName('time_1_3').x)\n",
    "print(m.getVarByName('time_1_4').x)\n",
    "print(m.getVarByName('time_1_5').x)\n",
    "print(m.getVarByName('time_1_6').x)\n",
    "print(m.getVarByName('time_1_7').x)"
   ]
  },
  {
   "cell_type": "markdown",
   "id": "9c244d14",
   "metadata": {},
   "source": [
    "# Distances cover by rider on each gear excluding the acceleration distance"
   ]
  },
  {
   "cell_type": "code",
   "execution_count": 168,
   "id": "fabf37dd",
   "metadata": {},
   "outputs": [
    {
     "name": "stdout",
     "output_type": "stream",
     "text": [
      "0.0\n",
      "0.0\n",
      "0.0\n",
      "155.3525557476824\n",
      "2961.3529152649394\n",
      "2952.34175610757\n",
      "2910.354719596808\n"
     ]
    }
   ],
   "source": [
    "[t_1_1,t_1_2,t_1_3,t_1_4,t_1_5,t_1_6,t_1_7] = [m.getVarByName('time_1_1').x,\n",
    "                                              m.getVarByName('time_1_2').x,\n",
    "                                              m.getVarByName('time_1_3').x,\n",
    "                                              m.getVarByName('time_1_4').x,\n",
    "                                              m.getVarByName('time_1_5').x,\n",
    "                                              m.getVarByName('time_1_6').x,\n",
    "                                              m.getVarByName('time_1_7').x]\n",
    "\n",
    "d_1_1 = built['final_tangential_vel_of_rearwheel']['On Gear 1']*t_1_1\n",
    "d_1_2 = built['final_tangential_vel_of_rearwheel']['On Gear 2']*t_1_2\n",
    "d_1_3 = built['final_tangential_vel_of_rearwheel']['On Gear 3']*t_1_3\n",
    "d_1_4 = built['final_tangential_vel_of_rearwheel']['On Gear 4']*t_1_4\n",
    "d_1_5 = built['final_tangential_vel_of_rearwheel']['On Gear 5']*t_1_5\n",
    "d_1_6 = built['final_tangential_vel_of_rearwheel']['On Gear 6']*t_1_6\n",
    "d_1_7 = built['final_tangential_vel_of_rearwheel']['On Gear 7']*t_1_7\n",
    "\n",
    "print(d_1_1)\n",
    "print(d_1_2)\n",
    "print(d_1_3)\n",
    "print(d_1_4)\n",
    "print(d_1_5)\n",
    "print(d_1_6)\n",
    "print(d_1_7)"
   ]
  },
  {
   "cell_type": "code",
   "execution_count": null,
   "id": "f031c6f0",
   "metadata": {},
   "outputs": [],
   "source": []
  }
 ],
 "metadata": {
  "kernelspec": {
   "display_name": "Python 3",
   "language": "python",
   "name": "python3"
  },
  "language_info": {
   "codemirror_mode": {
    "name": "ipython",
    "version": 3
   },
   "file_extension": ".py",
   "mimetype": "text/x-python",
   "name": "python",
   "nbconvert_exporter": "python",
   "pygments_lexer": "ipython3",
   "version": "3.8.8"
  }
 },
 "nbformat": 4,
 "nbformat_minor": 5
}
